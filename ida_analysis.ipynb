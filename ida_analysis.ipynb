{
 "cells": [
  {
   "cell_type": "markdown",
   "metadata": {},
   "source": [
    "# **World Bank (International Development Association) Credits & Grants Data Analysis Project**\n",
    "## Author:          Aftab Ahmad \n",
    "## Date:            20 July, 2024\n",
    "## Contact:         aftabajk@gmail.com"
   ]
  },
  {
   "cell_type": "markdown",
   "metadata": {},
   "source": [
    "The World Bank is a global institution. By providing loans to the governments of its members, it helps them develop their economies and raise the living standards of their citizens, which is one of its major functions. The International Development Association (IDA) was founded in 1960 to eradicate poverty through the provision of grants and credits, or loans with zero to low interest rates. The programs' objectives are to raise economic growth, lessen inequality, and enhance people's quality of life.\n",
    "I will examine the World Bank financial data, which includes details on the borrowing nations, in my capacity as a data analyst I also decided to compare the funding and repayments between Pakistan, India, and  Bangladesh.\n",
    "\n",
    "Pakistan, Bangladesh, and India have faced economic challenges and have large populations living below the poverty line, it's important to note that these countries have diverse economies and varying levels of development. Taking loans from international financial institutions like the World Bank is a common practice for both developing and developed countries."
   ]
  },
  {
   "cell_type": "markdown",
   "metadata": {},
   "source": [
    "To commence my exploratory data analysis, I will conduct a thorough data exploration, cleaning, and analysis process. To facilitate this endeavor, I will import the necessary Python libraries, which are essential tools for performing effective exploratory data analysis."
   ]
  },
  {
   "cell_type": "markdown",
   "metadata": {},
   "source": [
    "## To Start the exploratory data analysis, I will import the necessary Python libraries"
   ]
  },
  {
   "cell_type": "code",
   "execution_count": 131,
   "metadata": {},
   "outputs": [],
   "source": [
    "# Import the necessary libraries\n",
    "import pandas as pd\n",
    "import numpy as np\n",
    "import matplotlib.pyplot as plt\n",
    "import seaborn as sns"
   ]
  },
  {
   "cell_type": "markdown",
   "metadata": {},
   "source": [
    "## Import the dataset."
   ]
  },
  {
   "cell_type": "code",
   "execution_count": 132,
   "metadata": {},
   "outputs": [
    {
     "name": "stderr",
     "output_type": "stream",
     "text": [
      "C:\\Users\\Budget\\AppData\\Local\\Temp\\ipykernel_2236\\1659259906.py:1: DtypeWarning: Columns (17,29) have mixed types. Specify dtype option on import or set low_memory=False.\n",
      "  ida = pd.read_csv('IDA_Statement_Of_Credits_and_Grants_-_Historical_Data_20240722.csv')\n"
     ]
    }
   ],
   "source": [
    "ida = pd.read_csv('IDA_Statement_Of_Credits_and_Grants_-_Historical_Data_20240722.csv')"
   ]
  },
  {
   "cell_type": "markdown",
   "metadata": {},
   "source": [
    "## Data Exploration"
   ]
  },
  {
   "cell_type": "code",
   "execution_count": 133,
   "metadata": {},
   "outputs": [
    {
     "data": {
      "text/html": [
       "<div>\n",
       "<style scoped>\n",
       "    .dataframe tbody tr th:only-of-type {\n",
       "        vertical-align: middle;\n",
       "    }\n",
       "\n",
       "    .dataframe tbody tr th {\n",
       "        vertical-align: top;\n",
       "    }\n",
       "\n",
       "    .dataframe thead th {\n",
       "        text-align: right;\n",
       "    }\n",
       "</style>\n",
       "<table border=\"1\" class=\"dataframe\">\n",
       "  <thead>\n",
       "    <tr style=\"text-align: right;\">\n",
       "      <th></th>\n",
       "      <th>End of Period</th>\n",
       "      <th>Credit Number</th>\n",
       "      <th>Region</th>\n",
       "      <th>Country Code</th>\n",
       "      <th>Country</th>\n",
       "      <th>Borrower</th>\n",
       "      <th>Credit Status</th>\n",
       "      <th>Service Charge Rate</th>\n",
       "      <th>Currency of Commitment</th>\n",
       "      <th>Project ID</th>\n",
       "      <th>Project Name</th>\n",
       "      <th>Original Principal Amount (US$)</th>\n",
       "      <th>Cancelled Amount (US$)</th>\n",
       "      <th>Undisbursed Amount (US$)</th>\n",
       "      <th>Disbursed Amount (US$)</th>\n",
       "      <th>Repaid to IDA (US$)</th>\n",
       "      <th>Due to IDA (US$)</th>\n",
       "      <th>Exchange Adjustment (US$)</th>\n",
       "      <th>Borrower's Obligation (US$)</th>\n",
       "      <th>Sold 3rd Party (US$)</th>\n",
       "      <th>Repaid 3rd Party (US$)</th>\n",
       "      <th>Due 3rd Party (US$)</th>\n",
       "      <th>Credits Held (US$)</th>\n",
       "      <th>First Repayment Date</th>\n",
       "      <th>Last Repayment Date</th>\n",
       "      <th>Agreement Signing Date</th>\n",
       "      <th>Board Approval Date</th>\n",
       "      <th>Effective Date (Most Recent)</th>\n",
       "      <th>Closed Date (Most Recent)</th>\n",
       "      <th>Last Disbursement Date</th>\n",
       "    </tr>\n",
       "  </thead>\n",
       "  <tbody>\n",
       "    <tr>\n",
       "      <th>0</th>\n",
       "      <td>06/30/2022 12:00:00 AM</td>\n",
       "      <td>IDA00010</td>\n",
       "      <td>LATIN AMERICA AND CARIBBEAN</td>\n",
       "      <td>HN</td>\n",
       "      <td>Honduras</td>\n",
       "      <td>MINISTERIO DE HACIENDA Y CREDITO PUBLICO</td>\n",
       "      <td>Fully Repaid</td>\n",
       "      <td>0.75</td>\n",
       "      <td>USD</td>\n",
       "      <td>P007335</td>\n",
       "      <td>WESTERN HIGHWAY</td>\n",
       "      <td>9000000.00</td>\n",
       "      <td>572026.03</td>\n",
       "      <td>0.0</td>\n",
       "      <td>8427973.97</td>\n",
       "      <td>8427973.97</td>\n",
       "      <td>0.0</td>\n",
       "      <td>0.0</td>\n",
       "      <td>0.0</td>\n",
       "      <td>0.0</td>\n",
       "      <td>0.0</td>\n",
       "      <td>0.0</td>\n",
       "      <td>0.0</td>\n",
       "      <td>09/01/1971 12:00:00 AM</td>\n",
       "      <td>03/01/2011 12:00:00 AM</td>\n",
       "      <td>05/12/1961 12:00:00 AM</td>\n",
       "      <td>05/11/1961 12:00:00 AM</td>\n",
       "      <td>06/29/1961 12:00:00 AM</td>\n",
       "      <td>07/31/1967 12:00:00 AM</td>\n",
       "      <td>NaN</td>\n",
       "    </tr>\n",
       "    <tr>\n",
       "      <th>1</th>\n",
       "      <td>06/30/2022 12:00:00 AM</td>\n",
       "      <td>IDA00020</td>\n",
       "      <td>EASTERN AND SOUTHERN AFRICA</td>\n",
       "      <td>SD</td>\n",
       "      <td>Sudan</td>\n",
       "      <td>Ministry of Finance &amp; Economic Planning</td>\n",
       "      <td>Repaying</td>\n",
       "      <td>0.75</td>\n",
       "      <td>USD</td>\n",
       "      <td>P002553</td>\n",
       "      <td>ROSEIRES IRRIGATION</td>\n",
       "      <td>15509696.87</td>\n",
       "      <td>633197.93</td>\n",
       "      <td>0.0</td>\n",
       "      <td>14876498.94</td>\n",
       "      <td>14876498.94</td>\n",
       "      <td>0.0</td>\n",
       "      <td>0.0</td>\n",
       "      <td>0.0</td>\n",
       "      <td>0.0</td>\n",
       "      <td>0.0</td>\n",
       "      <td>0.0</td>\n",
       "      <td>0.0</td>\n",
       "      <td>07/15/1971 12:00:00 AM</td>\n",
       "      <td>01/15/2011 12:00:00 AM</td>\n",
       "      <td>06/14/1961 12:00:00 AM</td>\n",
       "      <td>06/13/1961 12:00:00 AM</td>\n",
       "      <td>10/19/1961 12:00:00 AM</td>\n",
       "      <td>12/31/1971 12:00:00 AM</td>\n",
       "      <td>NaN</td>\n",
       "    </tr>\n",
       "    <tr>\n",
       "      <th>2</th>\n",
       "      <td>06/30/2022 12:00:00 AM</td>\n",
       "      <td>IDA00030</td>\n",
       "      <td>SOUTH ASIA</td>\n",
       "      <td>IN</td>\n",
       "      <td>India</td>\n",
       "      <td>CONTROLLER OF AID ACCOUNTS &amp; AUDIT</td>\n",
       "      <td>Fully Repaid</td>\n",
       "      <td>0.75</td>\n",
       "      <td>USD</td>\n",
       "      <td>P009610</td>\n",
       "      <td>HIGHWAYS</td>\n",
       "      <td>72112713.47</td>\n",
       "      <td>530000.00</td>\n",
       "      <td>0.0</td>\n",
       "      <td>71582713.47</td>\n",
       "      <td>71582713.47</td>\n",
       "      <td>0.0</td>\n",
       "      <td>0.0</td>\n",
       "      <td>0.0</td>\n",
       "      <td>0.0</td>\n",
       "      <td>0.0</td>\n",
       "      <td>0.0</td>\n",
       "      <td>0.0</td>\n",
       "      <td>08/15/1971 12:00:00 AM</td>\n",
       "      <td>02/15/2011 12:00:00 AM</td>\n",
       "      <td>06/21/1961 12:00:00 AM</td>\n",
       "      <td>06/20/1961 12:00:00 AM</td>\n",
       "      <td>08/25/1961 12:00:00 AM</td>\n",
       "      <td>06/30/1967 12:00:00 AM</td>\n",
       "      <td>NaN</td>\n",
       "    </tr>\n",
       "    <tr>\n",
       "      <th>3</th>\n",
       "      <td>06/30/2022 12:00:00 AM</td>\n",
       "      <td>IDA00040</td>\n",
       "      <td>LATIN AMERICA AND CARIBBEAN</td>\n",
       "      <td>CL</td>\n",
       "      <td>Chile</td>\n",
       "      <td>MINISTERIO DE OBRAS PUBLICAS</td>\n",
       "      <td>Fully Repaid</td>\n",
       "      <td>0.75</td>\n",
       "      <td>USD</td>\n",
       "      <td>P006585</td>\n",
       "      <td>ROAD CONSTRUCTION</td>\n",
       "      <td>22878919.07</td>\n",
       "      <td>2244.58</td>\n",
       "      <td>0.0</td>\n",
       "      <td>22876674.49</td>\n",
       "      <td>22876674.49</td>\n",
       "      <td>0.0</td>\n",
       "      <td>0.0</td>\n",
       "      <td>0.0</td>\n",
       "      <td>0.0</td>\n",
       "      <td>0.0</td>\n",
       "      <td>0.0</td>\n",
       "      <td>0.0</td>\n",
       "      <td>12/01/1971 12:00:00 AM</td>\n",
       "      <td>06/01/2011 12:00:00 AM</td>\n",
       "      <td>06/28/1961 12:00:00 AM</td>\n",
       "      <td>06/27/1961 12:00:00 AM</td>\n",
       "      <td>12/21/1961 12:00:00 AM</td>\n",
       "      <td>12/31/1968 12:00:00 AM</td>\n",
       "      <td>NaN</td>\n",
       "    </tr>\n",
       "    <tr>\n",
       "      <th>4</th>\n",
       "      <td>06/30/2022 12:00:00 AM</td>\n",
       "      <td>IDA00050</td>\n",
       "      <td>LATIN AMERICA AND CARIBBEAN</td>\n",
       "      <td>CO</td>\n",
       "      <td>Colombia</td>\n",
       "      <td>MINISTERIO DE HACIENDA Y CREDITO PUBLICO</td>\n",
       "      <td>Fully Repaid</td>\n",
       "      <td>0.75</td>\n",
       "      <td>USD</td>\n",
       "      <td>P006701</td>\n",
       "      <td>ROAD CONSTRUCTION</td>\n",
       "      <td>23480995.92</td>\n",
       "      <td>0.00</td>\n",
       "      <td>0.0</td>\n",
       "      <td>23480995.92</td>\n",
       "      <td>23480995.92</td>\n",
       "      <td>0.0</td>\n",
       "      <td>0.0</td>\n",
       "      <td>0.0</td>\n",
       "      <td>0.0</td>\n",
       "      <td>0.0</td>\n",
       "      <td>0.0</td>\n",
       "      <td>0.0</td>\n",
       "      <td>12/01/1971 12:00:00 AM</td>\n",
       "      <td>06/01/2011 12:00:00 AM</td>\n",
       "      <td>08/28/1961 12:00:00 AM</td>\n",
       "      <td>08/15/1961 12:00:00 AM</td>\n",
       "      <td>11/25/1961 12:00:00 AM</td>\n",
       "      <td>12/31/1968 12:00:00 AM</td>\n",
       "      <td>NaN</td>\n",
       "    </tr>\n",
       "  </tbody>\n",
       "</table>\n",
       "</div>"
      ],
      "text/plain": [
       "            End of Period Credit Number                       Region  \\\n",
       "0  06/30/2022 12:00:00 AM      IDA00010  LATIN AMERICA AND CARIBBEAN   \n",
       "1  06/30/2022 12:00:00 AM      IDA00020  EASTERN AND SOUTHERN AFRICA   \n",
       "2  06/30/2022 12:00:00 AM      IDA00030                   SOUTH ASIA   \n",
       "3  06/30/2022 12:00:00 AM      IDA00040  LATIN AMERICA AND CARIBBEAN   \n",
       "4  06/30/2022 12:00:00 AM      IDA00050  LATIN AMERICA AND CARIBBEAN   \n",
       "\n",
       "  Country Code   Country                                  Borrower  \\\n",
       "0           HN  Honduras  MINISTERIO DE HACIENDA Y CREDITO PUBLICO   \n",
       "1           SD     Sudan   Ministry of Finance & Economic Planning   \n",
       "2           IN     India        CONTROLLER OF AID ACCOUNTS & AUDIT   \n",
       "3           CL     Chile              MINISTERIO DE OBRAS PUBLICAS   \n",
       "4           CO  Colombia  MINISTERIO DE HACIENDA Y CREDITO PUBLICO   \n",
       "\n",
       "  Credit Status  Service Charge Rate Currency of Commitment Project ID  \\\n",
       "0  Fully Repaid                 0.75                    USD    P007335   \n",
       "1      Repaying                 0.75                    USD    P002553   \n",
       "2  Fully Repaid                 0.75                    USD    P009610   \n",
       "3  Fully Repaid                 0.75                    USD    P006585   \n",
       "4  Fully Repaid                 0.75                    USD    P006701   \n",
       "\n",
       "          Project Name  Original Principal Amount (US$)  \\\n",
       "0      WESTERN HIGHWAY                       9000000.00   \n",
       "1  ROSEIRES IRRIGATION                      15509696.87   \n",
       "2             HIGHWAYS                      72112713.47   \n",
       "3    ROAD CONSTRUCTION                      22878919.07   \n",
       "4    ROAD CONSTRUCTION                      23480995.92   \n",
       "\n",
       "   Cancelled Amount (US$)  Undisbursed Amount (US$)  Disbursed Amount (US$)  \\\n",
       "0               572026.03                       0.0              8427973.97   \n",
       "1               633197.93                       0.0             14876498.94   \n",
       "2               530000.00                       0.0             71582713.47   \n",
       "3                 2244.58                       0.0             22876674.49   \n",
       "4                    0.00                       0.0             23480995.92   \n",
       "\n",
       "   Repaid to IDA (US$)  Due to IDA (US$) Exchange Adjustment (US$)  \\\n",
       "0           8427973.97               0.0                       0.0   \n",
       "1          14876498.94               0.0                       0.0   \n",
       "2          71582713.47               0.0                       0.0   \n",
       "3          22876674.49               0.0                       0.0   \n",
       "4          23480995.92               0.0                       0.0   \n",
       "\n",
       "   Borrower's Obligation (US$)  Sold 3rd Party (US$)  Repaid 3rd Party (US$)  \\\n",
       "0                          0.0                   0.0                     0.0   \n",
       "1                          0.0                   0.0                     0.0   \n",
       "2                          0.0                   0.0                     0.0   \n",
       "3                          0.0                   0.0                     0.0   \n",
       "4                          0.0                   0.0                     0.0   \n",
       "\n",
       "   Due 3rd Party (US$)  Credits Held (US$)    First Repayment Date  \\\n",
       "0                  0.0                 0.0  09/01/1971 12:00:00 AM   \n",
       "1                  0.0                 0.0  07/15/1971 12:00:00 AM   \n",
       "2                  0.0                 0.0  08/15/1971 12:00:00 AM   \n",
       "3                  0.0                 0.0  12/01/1971 12:00:00 AM   \n",
       "4                  0.0                 0.0  12/01/1971 12:00:00 AM   \n",
       "\n",
       "      Last Repayment Date  Agreement Signing Date     Board Approval Date  \\\n",
       "0  03/01/2011 12:00:00 AM  05/12/1961 12:00:00 AM  05/11/1961 12:00:00 AM   \n",
       "1  01/15/2011 12:00:00 AM  06/14/1961 12:00:00 AM  06/13/1961 12:00:00 AM   \n",
       "2  02/15/2011 12:00:00 AM  06/21/1961 12:00:00 AM  06/20/1961 12:00:00 AM   \n",
       "3  06/01/2011 12:00:00 AM  06/28/1961 12:00:00 AM  06/27/1961 12:00:00 AM   \n",
       "4  06/01/2011 12:00:00 AM  08/28/1961 12:00:00 AM  08/15/1961 12:00:00 AM   \n",
       "\n",
       "  Effective Date (Most Recent) Closed Date (Most Recent)  \\\n",
       "0       06/29/1961 12:00:00 AM    07/31/1967 12:00:00 AM   \n",
       "1       10/19/1961 12:00:00 AM    12/31/1971 12:00:00 AM   \n",
       "2       08/25/1961 12:00:00 AM    06/30/1967 12:00:00 AM   \n",
       "3       12/21/1961 12:00:00 AM    12/31/1968 12:00:00 AM   \n",
       "4       11/25/1961 12:00:00 AM    12/31/1968 12:00:00 AM   \n",
       "\n",
       "  Last Disbursement Date  \n",
       "0                    NaN  \n",
       "1                    NaN  \n",
       "2                    NaN  \n",
       "3                    NaN  \n",
       "4                    NaN  "
      ]
     },
     "execution_count": 133,
     "metadata": {},
     "output_type": "execute_result"
    }
   ],
   "source": [
    "# Doslay the top 5 rows and all columns of the datafram.\n",
    "pd.set_option('display.max_columns', None)\n",
    "ida.head()"
   ]
  },
  {
   "cell_type": "code",
   "execution_count": 134,
   "metadata": {},
   "outputs": [
    {
     "data": {
      "text/html": [
       "<div>\n",
       "<style scoped>\n",
       "    .dataframe tbody tr th:only-of-type {\n",
       "        vertical-align: middle;\n",
       "    }\n",
       "\n",
       "    .dataframe tbody tr th {\n",
       "        vertical-align: top;\n",
       "    }\n",
       "\n",
       "    .dataframe thead th {\n",
       "        text-align: right;\n",
       "    }\n",
       "</style>\n",
       "<table border=\"1\" class=\"dataframe\">\n",
       "  <thead>\n",
       "    <tr style=\"text-align: right;\">\n",
       "      <th></th>\n",
       "      <th>End of Period</th>\n",
       "      <th>Credit Number</th>\n",
       "      <th>Region</th>\n",
       "      <th>Country Code</th>\n",
       "      <th>Country</th>\n",
       "      <th>Borrower</th>\n",
       "      <th>Credit Status</th>\n",
       "      <th>Service Charge Rate</th>\n",
       "      <th>Currency of Commitment</th>\n",
       "      <th>Project ID</th>\n",
       "      <th>Project Name</th>\n",
       "      <th>Original Principal Amount (US$)</th>\n",
       "      <th>Cancelled Amount (US$)</th>\n",
       "      <th>Undisbursed Amount (US$)</th>\n",
       "      <th>Disbursed Amount (US$)</th>\n",
       "      <th>Repaid to IDA (US$)</th>\n",
       "      <th>Due to IDA (US$)</th>\n",
       "      <th>Exchange Adjustment (US$)</th>\n",
       "      <th>Borrower's Obligation (US$)</th>\n",
       "      <th>Sold 3rd Party (US$)</th>\n",
       "      <th>Repaid 3rd Party (US$)</th>\n",
       "      <th>Due 3rd Party (US$)</th>\n",
       "      <th>Credits Held (US$)</th>\n",
       "      <th>First Repayment Date</th>\n",
       "      <th>Last Repayment Date</th>\n",
       "      <th>Agreement Signing Date</th>\n",
       "      <th>Board Approval Date</th>\n",
       "      <th>Effective Date (Most Recent)</th>\n",
       "      <th>Closed Date (Most Recent)</th>\n",
       "      <th>Last Disbursement Date</th>\n",
       "    </tr>\n",
       "  </thead>\n",
       "  <tbody>\n",
       "    <tr>\n",
       "      <th>991843</th>\n",
       "      <td>08/31/2021 12:00:00 AM</td>\n",
       "      <td>IDAD0570</td>\n",
       "      <td>AFRICA EAST</td>\n",
       "      <td>BI</td>\n",
       "      <td>Burundi</td>\n",
       "      <td>Ministre des Finances du Budget et de la</td>\n",
       "      <td>Disbursing</td>\n",
       "      <td>NaN</td>\n",
       "      <td>XDR</td>\n",
       "      <td>P151869</td>\n",
       "      <td>BI-Coffee Sector Competitiveness Project</td>\n",
       "      <td>55000000.0</td>\n",
       "      <td>15718090.52</td>\n",
       "      <td>1220833.06</td>\n",
       "      <td>37934569.03</td>\n",
       "      <td>0.0</td>\n",
       "      <td>0.0</td>\n",
       "      <td>0.0</td>\n",
       "      <td>0.0</td>\n",
       "      <td>0.0</td>\n",
       "      <td>0.0</td>\n",
       "      <td>0.0</td>\n",
       "      <td>1220833.06</td>\n",
       "      <td>NaN</td>\n",
       "      <td>NaN</td>\n",
       "      <td>08/05/2016 12:00:00 AM</td>\n",
       "      <td>{</td>\n",
       "      <td>NaN</td>\n",
       "      <td>NaN</td>\n",
       "      <td>NaN</td>\n",
       "    </tr>\n",
       "    <tr>\n",
       "      <th>991844</th>\n",
       "      <td>\"error\" : true</td>\n",
       "      <td>NaN</td>\n",
       "      <td>NaN</td>\n",
       "      <td>NaN</td>\n",
       "      <td>NaN</td>\n",
       "      <td>NaN</td>\n",
       "      <td>NaN</td>\n",
       "      <td>NaN</td>\n",
       "      <td>NaN</td>\n",
       "      <td>NaN</td>\n",
       "      <td>NaN</td>\n",
       "      <td>NaN</td>\n",
       "      <td>NaN</td>\n",
       "      <td>NaN</td>\n",
       "      <td>NaN</td>\n",
       "      <td>NaN</td>\n",
       "      <td>NaN</td>\n",
       "      <td>NaN</td>\n",
       "      <td>NaN</td>\n",
       "      <td>NaN</td>\n",
       "      <td>NaN</td>\n",
       "      <td>NaN</td>\n",
       "      <td>NaN</td>\n",
       "      <td>NaN</td>\n",
       "      <td>NaN</td>\n",
       "      <td>NaN</td>\n",
       "      <td>NaN</td>\n",
       "      <td>NaN</td>\n",
       "      <td>NaN</td>\n",
       "      <td>NaN</td>\n",
       "    </tr>\n",
       "    <tr>\n",
       "      <th>991845</th>\n",
       "      <td>\"message\" : \"Internal error\"</td>\n",
       "      <td>NaN</td>\n",
       "      <td>NaN</td>\n",
       "      <td>NaN</td>\n",
       "      <td>NaN</td>\n",
       "      <td>NaN</td>\n",
       "      <td>NaN</td>\n",
       "      <td>NaN</td>\n",
       "      <td>NaN</td>\n",
       "      <td>NaN</td>\n",
       "      <td>NaN</td>\n",
       "      <td>NaN</td>\n",
       "      <td>NaN</td>\n",
       "      <td>NaN</td>\n",
       "      <td>NaN</td>\n",
       "      <td>NaN</td>\n",
       "      <td>NaN</td>\n",
       "      <td>NaN</td>\n",
       "      <td>NaN</td>\n",
       "      <td>NaN</td>\n",
       "      <td>NaN</td>\n",
       "      <td>NaN</td>\n",
       "      <td>NaN</td>\n",
       "      <td>NaN</td>\n",
       "      <td>NaN</td>\n",
       "      <td>NaN</td>\n",
       "      <td>NaN</td>\n",
       "      <td>NaN</td>\n",
       "      <td>NaN</td>\n",
       "      <td>NaN</td>\n",
       "    </tr>\n",
       "    <tr>\n",
       "      <th>991846</th>\n",
       "      <td>\"status\" : 500</td>\n",
       "      <td>NaN</td>\n",
       "      <td>NaN</td>\n",
       "      <td>NaN</td>\n",
       "      <td>NaN</td>\n",
       "      <td>NaN</td>\n",
       "      <td>NaN</td>\n",
       "      <td>NaN</td>\n",
       "      <td>NaN</td>\n",
       "      <td>NaN</td>\n",
       "      <td>NaN</td>\n",
       "      <td>NaN</td>\n",
       "      <td>NaN</td>\n",
       "      <td>NaN</td>\n",
       "      <td>NaN</td>\n",
       "      <td>NaN</td>\n",
       "      <td>NaN</td>\n",
       "      <td>NaN</td>\n",
       "      <td>NaN</td>\n",
       "      <td>NaN</td>\n",
       "      <td>NaN</td>\n",
       "      <td>NaN</td>\n",
       "      <td>NaN</td>\n",
       "      <td>NaN</td>\n",
       "      <td>NaN</td>\n",
       "      <td>NaN</td>\n",
       "      <td>NaN</td>\n",
       "      <td>NaN</td>\n",
       "      <td>NaN</td>\n",
       "      <td>NaN</td>\n",
       "    </tr>\n",
       "    <tr>\n",
       "      <th>991847</th>\n",
       "      <td>}</td>\n",
       "      <td>NaN</td>\n",
       "      <td>NaN</td>\n",
       "      <td>NaN</td>\n",
       "      <td>NaN</td>\n",
       "      <td>NaN</td>\n",
       "      <td>NaN</td>\n",
       "      <td>NaN</td>\n",
       "      <td>NaN</td>\n",
       "      <td>NaN</td>\n",
       "      <td>NaN</td>\n",
       "      <td>NaN</td>\n",
       "      <td>NaN</td>\n",
       "      <td>NaN</td>\n",
       "      <td>NaN</td>\n",
       "      <td>NaN</td>\n",
       "      <td>NaN</td>\n",
       "      <td>NaN</td>\n",
       "      <td>NaN</td>\n",
       "      <td>NaN</td>\n",
       "      <td>NaN</td>\n",
       "      <td>NaN</td>\n",
       "      <td>NaN</td>\n",
       "      <td>NaN</td>\n",
       "      <td>NaN</td>\n",
       "      <td>NaN</td>\n",
       "      <td>NaN</td>\n",
       "      <td>NaN</td>\n",
       "      <td>NaN</td>\n",
       "      <td>NaN</td>\n",
       "    </tr>\n",
       "  </tbody>\n",
       "</table>\n",
       "</div>"
      ],
      "text/plain": [
       "                         End of Period Credit Number       Region  \\\n",
       "991843          08/31/2021 12:00:00 AM      IDAD0570  AFRICA EAST   \n",
       "991844                  \"error\" : true           NaN          NaN   \n",
       "991845    \"message\" : \"Internal error\"           NaN          NaN   \n",
       "991846                  \"status\" : 500           NaN          NaN   \n",
       "991847                               }           NaN          NaN   \n",
       "\n",
       "       Country Code  Country                                  Borrower  \\\n",
       "991843           BI  Burundi  Ministre des Finances du Budget et de la   \n",
       "991844          NaN      NaN                                       NaN   \n",
       "991845          NaN      NaN                                       NaN   \n",
       "991846          NaN      NaN                                       NaN   \n",
       "991847          NaN      NaN                                       NaN   \n",
       "\n",
       "       Credit Status  Service Charge Rate Currency of Commitment Project ID  \\\n",
       "991843    Disbursing                  NaN                    XDR    P151869   \n",
       "991844           NaN                  NaN                    NaN        NaN   \n",
       "991845           NaN                  NaN                    NaN        NaN   \n",
       "991846           NaN                  NaN                    NaN        NaN   \n",
       "991847           NaN                  NaN                    NaN        NaN   \n",
       "\n",
       "                                    Project Name  \\\n",
       "991843  BI-Coffee Sector Competitiveness Project   \n",
       "991844                                       NaN   \n",
       "991845                                       NaN   \n",
       "991846                                       NaN   \n",
       "991847                                       NaN   \n",
       "\n",
       "        Original Principal Amount (US$)  Cancelled Amount (US$)  \\\n",
       "991843                       55000000.0             15718090.52   \n",
       "991844                              NaN                     NaN   \n",
       "991845                              NaN                     NaN   \n",
       "991846                              NaN                     NaN   \n",
       "991847                              NaN                     NaN   \n",
       "\n",
       "        Undisbursed Amount (US$)  Disbursed Amount (US$)  Repaid to IDA (US$)  \\\n",
       "991843                1220833.06             37934569.03                  0.0   \n",
       "991844                       NaN                     NaN                  NaN   \n",
       "991845                       NaN                     NaN                  NaN   \n",
       "991846                       NaN                     NaN                  NaN   \n",
       "991847                       NaN                     NaN                  NaN   \n",
       "\n",
       "        Due to IDA (US$) Exchange Adjustment (US$)  \\\n",
       "991843               0.0                       0.0   \n",
       "991844               NaN                       NaN   \n",
       "991845               NaN                       NaN   \n",
       "991846               NaN                       NaN   \n",
       "991847               NaN                       NaN   \n",
       "\n",
       "        Borrower's Obligation (US$)  Sold 3rd Party (US$)  \\\n",
       "991843                          0.0                   0.0   \n",
       "991844                          NaN                   NaN   \n",
       "991845                          NaN                   NaN   \n",
       "991846                          NaN                   NaN   \n",
       "991847                          NaN                   NaN   \n",
       "\n",
       "        Repaid 3rd Party (US$)  Due 3rd Party (US$)  Credits Held (US$)  \\\n",
       "991843                     0.0                  0.0          1220833.06   \n",
       "991844                     NaN                  NaN                 NaN   \n",
       "991845                     NaN                  NaN                 NaN   \n",
       "991846                     NaN                  NaN                 NaN   \n",
       "991847                     NaN                  NaN                 NaN   \n",
       "\n",
       "       First Repayment Date Last Repayment Date  Agreement Signing Date  \\\n",
       "991843                  NaN                 NaN  08/05/2016 12:00:00 AM   \n",
       "991844                  NaN                 NaN                     NaN   \n",
       "991845                  NaN                 NaN                     NaN   \n",
       "991846                  NaN                 NaN                     NaN   \n",
       "991847                  NaN                 NaN                     NaN   \n",
       "\n",
       "       Board Approval Date Effective Date (Most Recent)  \\\n",
       "991843                   {                          NaN   \n",
       "991844                 NaN                          NaN   \n",
       "991845                 NaN                          NaN   \n",
       "991846                 NaN                          NaN   \n",
       "991847                 NaN                          NaN   \n",
       "\n",
       "       Closed Date (Most Recent) Last Disbursement Date  \n",
       "991843                       NaN                    NaN  \n",
       "991844                       NaN                    NaN  \n",
       "991845                       NaN                    NaN  \n",
       "991846                       NaN                    NaN  \n",
       "991847                       NaN                    NaN  "
      ]
     },
     "execution_count": 134,
     "metadata": {},
     "output_type": "execute_result"
    }
   ],
   "source": [
    "# Doslay the bottom 5 rows of the datafram.\n",
    "pd.set_option('display.max_columns', None)\n",
    "ida.tail()"
   ]
  },
  {
   "cell_type": "code",
   "execution_count": 135,
   "metadata": {},
   "outputs": [
    {
     "name": "stdout",
     "output_type": "stream",
     "text": [
      "<class 'pandas.core.frame.DataFrame'>\n",
      "RangeIndex: 991848 entries, 0 to 991847\n",
      "Data columns (total 30 columns):\n",
      " #   Column                           Non-Null Count   Dtype  \n",
      "---  ------                           --------------   -----  \n",
      " 0   End of Period                    991848 non-null  object \n",
      " 1   Credit Number                    991844 non-null  object \n",
      " 2   Region                           991844 non-null  object \n",
      " 3   Country Code                     991844 non-null  object \n",
      " 4   Country                          991844 non-null  object \n",
      " 5   Borrower                         991403 non-null  object \n",
      " 6   Credit Status                    991844 non-null  object \n",
      " 7   Service Charge Rate              917134 non-null  float64\n",
      " 8   Currency of Commitment           991844 non-null  object \n",
      " 9   Project ID                       991844 non-null  object \n",
      " 10  Project Name                     991841 non-null  object \n",
      " 11  Original Principal Amount (US$)  991844 non-null  float64\n",
      " 12  Cancelled Amount (US$)           991842 non-null  float64\n",
      " 13  Undisbursed Amount (US$)         991844 non-null  float64\n",
      " 14  Disbursed Amount (US$)           991842 non-null  float64\n",
      " 15  Repaid to IDA (US$)              991842 non-null  float64\n",
      " 16  Due to IDA (US$)                 991842 non-null  float64\n",
      " 17  Exchange Adjustment (US$)        991844 non-null  object \n",
      " 18  Borrower's Obligation (US$)      991842 non-null  float64\n",
      " 19  Sold 3rd Party (US$)             991842 non-null  float64\n",
      " 20  Repaid 3rd Party (US$)           991842 non-null  float64\n",
      " 21  Due 3rd Party (US$)              991842 non-null  float64\n",
      " 22  Credits Held (US$)               991844 non-null  float64\n",
      " 23  First Repayment Date             847590 non-null  object \n",
      " 24  Last Repayment Date              847590 non-null  object \n",
      " 25  Agreement Signing Date           977207 non-null  object \n",
      " 26  Board Approval Date              991782 non-null  object \n",
      " 27  Effective Date (Most Recent)     982305 non-null  object \n",
      " 28  Closed Date (Most Recent)        991595 non-null  object \n",
      " 29  Last Disbursement Date           629985 non-null  object \n",
      "dtypes: float64(12), object(18)\n",
      "memory usage: 227.0+ MB\n"
     ]
    }
   ],
   "source": [
    "## Check the summary of the DataFrame\n",
    "ida.info()"
   ]
  },
  {
   "cell_type": "code",
   "execution_count": 136,
   "metadata": {},
   "outputs": [
    {
     "data": {
      "text/plain": [
       "(991848, 30)"
      ]
     },
     "execution_count": 136,
     "metadata": {},
     "output_type": "execute_result"
    }
   ],
   "source": [
    "# Check the Shape of the datafram.\n",
    "ida.shape"
   ]
  },
  {
   "cell_type": "markdown",
   "metadata": {},
   "source": [
    "#### There are many columns in the dataframe which are not necessary for the data analysis therefore, i drop the nnecessary columns fron the dataframe."
   ]
  },
  {
   "cell_type": "code",
   "execution_count": 137,
   "metadata": {},
   "outputs": [],
   "source": [
    "# Dropping the unnecessary columns from the dataframe.\n",
    "ida = ida.drop(['End of Period', 'Credit Number', 'Region', 'Country Code','Service Charge Rate','Currency of Commitment',\n",
    "                'Project ID','Exchange Adjustment (US$)',\"Borrower's Obligation (US$)\", 'Sold 3rd Party (US$)',\n",
    "                'Repaid 3rd Party (US$)', 'Due 3rd Party (US$)', 'Credits Held (US$)','First Repayment Date',\n",
    "                'Last Repayment Date', 'Agreement Signing Date','Board Approval Date', 'Effective Date (Most Recent)',\n",
    "                'Closed Date (Most Recent)', 'Last Disbursement Date'], axis=1)"
   ]
  },
  {
   "cell_type": "code",
   "execution_count": 138,
   "metadata": {},
   "outputs": [
    {
     "name": "stdout",
     "output_type": "stream",
     "text": [
      "<class 'pandas.core.frame.DataFrame'>\n",
      "RangeIndex: 991848 entries, 0 to 991847\n",
      "Data columns (total 10 columns):\n",
      " #   Column                           Non-Null Count   Dtype  \n",
      "---  ------                           --------------   -----  \n",
      " 0   Country                          991844 non-null  object \n",
      " 1   Borrower                         991403 non-null  object \n",
      " 2   Credit Status                    991844 non-null  object \n",
      " 3   Project Name                     991841 non-null  object \n",
      " 4   Original Principal Amount (US$)  991844 non-null  float64\n",
      " 5   Cancelled Amount (US$)           991842 non-null  float64\n",
      " 6   Undisbursed Amount (US$)         991844 non-null  float64\n",
      " 7   Disbursed Amount (US$)           991842 non-null  float64\n",
      " 8   Repaid to IDA (US$)              991842 non-null  float64\n",
      " 9   Due to IDA (US$)                 991842 non-null  float64\n",
      "dtypes: float64(6), object(4)\n",
      "memory usage: 75.7+ MB\n"
     ]
    }
   ],
   "source": [
    "ida.info()"
   ]
  },
  {
   "cell_type": "markdown",
   "metadata": {},
   "source": [
    "### I Created a new Column for a comprehensive assessment of the identification of the most significant borrowing patterns and project-level financing."
   ]
  },
  {
   "cell_type": "code",
   "execution_count": 139,
   "metadata": {},
   "outputs": [],
   "source": [
    "# Create a new column 'Amount to be Received' by adding Undisbursed Amount (US$) & Disbursed Amount (US$) columns.\n",
    "ida['Amount to be Received'] = np.round(ida['Undisbursed Amount (US$)'] + ida['Disbursed Amount (US$)'], 0)"
   ]
  },
  {
   "cell_type": "code",
   "execution_count": 140,
   "metadata": {},
   "outputs": [
    {
     "data": {
      "text/html": [
       "<div>\n",
       "<style scoped>\n",
       "    .dataframe tbody tr th:only-of-type {\n",
       "        vertical-align: middle;\n",
       "    }\n",
       "\n",
       "    .dataframe tbody tr th {\n",
       "        vertical-align: top;\n",
       "    }\n",
       "\n",
       "    .dataframe thead th {\n",
       "        text-align: right;\n",
       "    }\n",
       "</style>\n",
       "<table border=\"1\" class=\"dataframe\">\n",
       "  <thead>\n",
       "    <tr style=\"text-align: right;\">\n",
       "      <th></th>\n",
       "      <th>Original Principal Amount (US$)</th>\n",
       "      <th>Cancelled Amount (US$)</th>\n",
       "      <th>Undisbursed Amount (US$)</th>\n",
       "      <th>Disbursed Amount (US$)</th>\n",
       "      <th>Repaid to IDA (US$)</th>\n",
       "      <th>Due to IDA (US$)</th>\n",
       "      <th>Amount to be Received</th>\n",
       "    </tr>\n",
       "  </thead>\n",
       "  <tbody>\n",
       "    <tr>\n",
       "      <th>count</th>\n",
       "      <td>9.918440e+05</td>\n",
       "      <td>9.918420e+05</td>\n",
       "      <td>9.918440e+05</td>\n",
       "      <td>9.918420e+05</td>\n",
       "      <td>9.918420e+05</td>\n",
       "      <td>9.918420e+05</td>\n",
       "      <td>9.918420e+05</td>\n",
       "    </tr>\n",
       "    <tr>\n",
       "      <th>mean</th>\n",
       "      <td>4.290330e+07</td>\n",
       "      <td>2.927563e+06</td>\n",
       "      <td>7.301737e+06</td>\n",
       "      <td>3.301412e+07</td>\n",
       "      <td>1.197925e+07</td>\n",
       "      <td>1.838907e+07</td>\n",
       "      <td>4.031557e+07</td>\n",
       "    </tr>\n",
       "    <tr>\n",
       "      <th>std</th>\n",
       "      <td>6.674468e+07</td>\n",
       "      <td>1.800233e+07</td>\n",
       "      <td>3.356632e+07</td>\n",
       "      <td>5.296130e+07</td>\n",
       "      <td>2.530120e+07</td>\n",
       "      <td>4.373303e+07</td>\n",
       "      <td>6.251762e+07</td>\n",
       "    </tr>\n",
       "    <tr>\n",
       "      <th>min</th>\n",
       "      <td>0.000000e+00</td>\n",
       "      <td>0.000000e+00</td>\n",
       "      <td>-3.083150e+07</td>\n",
       "      <td>-7.829253e+06</td>\n",
       "      <td>0.000000e+00</td>\n",
       "      <td>-5.370000e+00</td>\n",
       "      <td>-3.083150e+07</td>\n",
       "    </tr>\n",
       "    <tr>\n",
       "      <th>25%</th>\n",
       "      <td>8.566005e+06</td>\n",
       "      <td>0.000000e+00</td>\n",
       "      <td>0.000000e+00</td>\n",
       "      <td>5.326545e+06</td>\n",
       "      <td>0.000000e+00</td>\n",
       "      <td>0.000000e+00</td>\n",
       "      <td>7.304388e+06</td>\n",
       "    </tr>\n",
       "    <tr>\n",
       "      <th>50%</th>\n",
       "      <td>2.000000e+07</td>\n",
       "      <td>3.157500e+02</td>\n",
       "      <td>0.000000e+00</td>\n",
       "      <td>1.495438e+07</td>\n",
       "      <td>2.398328e+06</td>\n",
       "      <td>1.629074e+06</td>\n",
       "      <td>1.849605e+07</td>\n",
       "    </tr>\n",
       "    <tr>\n",
       "      <th>75%</th>\n",
       "      <td>5.000000e+07</td>\n",
       "      <td>7.762500e+05</td>\n",
       "      <td>0.000000e+00</td>\n",
       "      <td>3.768262e+07</td>\n",
       "      <td>1.257079e+07</td>\n",
       "      <td>1.707792e+07</td>\n",
       "      <td>4.642586e+07</td>\n",
       "    </tr>\n",
       "    <tr>\n",
       "      <th>max</th>\n",
       "      <td>1.200000e+09</td>\n",
       "      <td>1.200000e+09</td>\n",
       "      <td>1.263214e+09</td>\n",
       "      <td>1.096893e+09</td>\n",
       "      <td>5.617663e+08</td>\n",
       "      <td>7.932561e+08</td>\n",
       "      <td>1.263214e+09</td>\n",
       "    </tr>\n",
       "  </tbody>\n",
       "</table>\n",
       "</div>"
      ],
      "text/plain": [
       "       Original Principal Amount (US$)  Cancelled Amount (US$)  \\\n",
       "count                     9.918440e+05            9.918420e+05   \n",
       "mean                      4.290330e+07            2.927563e+06   \n",
       "std                       6.674468e+07            1.800233e+07   \n",
       "min                       0.000000e+00            0.000000e+00   \n",
       "25%                       8.566005e+06            0.000000e+00   \n",
       "50%                       2.000000e+07            3.157500e+02   \n",
       "75%                       5.000000e+07            7.762500e+05   \n",
       "max                       1.200000e+09            1.200000e+09   \n",
       "\n",
       "       Undisbursed Amount (US$)  Disbursed Amount (US$)  Repaid to IDA (US$)  \\\n",
       "count              9.918440e+05            9.918420e+05         9.918420e+05   \n",
       "mean               7.301737e+06            3.301412e+07         1.197925e+07   \n",
       "std                3.356632e+07            5.296130e+07         2.530120e+07   \n",
       "min               -3.083150e+07           -7.829253e+06         0.000000e+00   \n",
       "25%                0.000000e+00            5.326545e+06         0.000000e+00   \n",
       "50%                0.000000e+00            1.495438e+07         2.398328e+06   \n",
       "75%                0.000000e+00            3.768262e+07         1.257079e+07   \n",
       "max                1.263214e+09            1.096893e+09         5.617663e+08   \n",
       "\n",
       "       Due to IDA (US$)  Amount to be Received  \n",
       "count      9.918420e+05           9.918420e+05  \n",
       "mean       1.838907e+07           4.031557e+07  \n",
       "std        4.373303e+07           6.251762e+07  \n",
       "min       -5.370000e+00          -3.083150e+07  \n",
       "25%        0.000000e+00           7.304388e+06  \n",
       "50%        1.629074e+06           1.849605e+07  \n",
       "75%        1.707792e+07           4.642586e+07  \n",
       "max        7.932561e+08           1.263214e+09  "
      ]
     },
     "execution_count": 140,
     "metadata": {},
     "output_type": "execute_result"
    }
   ],
   "source": [
    "# Generate Descriptive statistics of the dataframe\n",
    "ida.describe()"
   ]
  },
  {
   "cell_type": "code",
   "execution_count": 141,
   "metadata": {},
   "outputs": [
    {
     "data": {
      "text/plain": [
       "Country                            0.000403\n",
       "Borrower                           0.044866\n",
       "Credit Status                      0.000403\n",
       "Project Name                       0.000706\n",
       "Original Principal Amount (US$)    0.000403\n",
       "Cancelled Amount (US$)             0.000605\n",
       "Undisbursed Amount (US$)           0.000403\n",
       "Disbursed Amount (US$)             0.000605\n",
       "Repaid to IDA (US$)                0.000605\n",
       "Due to IDA (US$)                   0.000605\n",
       "Amount to be Received              0.000605\n",
       "dtype: float64"
      ]
     },
     "execution_count": 141,
     "metadata": {},
     "output_type": "execute_result"
    }
   ],
   "source": [
    "ida.isnull().sum()*100 / len(ida)"
   ]
  },
  {
   "cell_type": "code",
   "execution_count": 142,
   "metadata": {},
   "outputs": [],
   "source": [
    "# Save the DataFrame into a CSV file\n",
    "ida.to_csv(\"G:\\Work_bank_Group_finance\\Work_bank_Group_finance_final.csv\", index=False)"
   ]
  },
  {
   "cell_type": "markdown",
   "metadata": {},
   "source": [
    "## Analysis"
   ]
  },
  {
   "cell_type": "code",
   "execution_count": 143,
   "metadata": {},
   "outputs": [
    {
     "data": {
      "text/plain": [
       "991842"
      ]
     },
     "execution_count": 143,
     "metadata": {},
     "output_type": "execute_result"
    }
   ],
   "source": [
    "# Total Transaction By IDA\n",
    "ida['Amount to be Received'].count()"
   ]
  },
  {
   "cell_type": "code",
   "execution_count": 145,
   "metadata": {},
   "outputs": [
    {
     "data": {
      "text/plain": [
       "136"
      ]
     },
     "execution_count": 145,
     "metadata": {},
     "output_type": "execute_result"
    }
   ],
   "source": [
    "# Total number of Recipent Countries.\n",
    "distinct_count = ida['Country'].nunique()\n",
    "distinct_count"
   ]
  },
  {
   "cell_type": "markdown",
   "metadata": {},
   "source": [
    "### Top 10 Borrowing Countries from IDA."
   ]
  },
  {
   "cell_type": "code",
   "execution_count": 99,
   "metadata": {},
   "outputs": [
    {
     "data": {
      "image/png": "[encoded data removed]",
      "text/plain": [
       "<Figure size 1200x600 with 1 Axes>"
      ]
     },
     "metadata": {},
     "output_type": "display_data"
    }
   ],
   "source": [
    "# Group by country and aggregate Amount to be Received.\n",
    "grouped_ida = ida.groupby('Country')['Amount to be Received'].sum().reset_index()\n",
    "\n",
    "# Sort the aggregated data in descending order based on Amount to be Received.\n",
    "sorted_ida = grouped_ida.sort_values(by='Amount to be Received', ascending=False)\n",
    "\n",
    "# Take the top 10 countries\n",
    "top_10_countries = sorted_ida.head(10)\n",
    "\n",
    "# Plot the top 10 countries\n",
    "plt.figure(figsize=(12, 6))\n",
    "sns.barplot(data= top_10_countries, x = 'Country', y= 'Amount to be Received', hue= 'Country')\n",
    "plt.xlabel('Country')\n",
    "plt.ylabel('Amount (Billions)')\n",
    "# Annotate the bars\n",
    "for bar in plt.gca().patches:\n",
    "    height = bar.get_height()\n",
    "    plt.annotate(f'{height / 1e9:.1f}B', \n",
    "                 xy=(bar.get_x() + bar.get_width() / 2, height),\n",
    "                 xytext=(0, 3),  # 3 points vertical offset\n",
    "                 textcoords=\"offset points\",\n",
    "                 ha='center', va='bottom')\n",
    "\n",
    "plt.tight_layout()\n",
    "plt.show()\n",
    "\n"
   ]
  },
  {
   "cell_type": "markdown",
   "metadata": {},
   "source": [
    "### Top 5 Countries Having The Highest Amount of Loan Due to IDA."
   ]
  },
  {
   "cell_type": "code",
   "execution_count": 100,
   "metadata": {},
   "outputs": [
    {
     "data": {
      "image/png": "[encoded data removed]",
      "text/plain": [
       "<Figure size 1200x600 with 1 Axes>"
      ]
     },
     "metadata": {},
     "output_type": "display_data"
    }
   ],
   "source": [
    "# Group by country and aggregate Disbursed Amount.\n",
    "grouped_ida = ida.groupby('Country')['Due to IDA (US$)'].sum().reset_index()\n",
    "\n",
    "# Sort the aggregated data in descending order based on Due to IDA amount.\n",
    "sorted_ida = grouped_ida.sort_values(by='Due to IDA (US$)', ascending=False)\n",
    "\n",
    "# Take the top 5 countries\n",
    "top_5_countries = sorted_ida.head(5)\n",
    "\n",
    "# Plot the top 5 countries\n",
    "plt.figure(figsize=(12, 6))\n",
    "sns.barplot(data= top_5_countries, x = 'Country', y= 'Due to IDA (US$)', hue= 'Country', palette = \"tab10\")\n",
    "plt.xlabel('Country')\n",
    "plt.ylabel('Amount (Billions)')\n",
    "# Adding data labels\n",
    "for bar in plt.gca().patches:\n",
    "    height = bar.get_height()\n",
    "    plt.annotate(f'{height / 1e9:.1f} B', xy=(bar.get_x() + bar.get_width() / 2, height),\n",
    "                 xytext=(0, 3),  # 3 points vertical offset\n",
    "                 textcoords=\"offset points\",\n",
    "                 ha='center', va='bottom')\n",
    "\n",
    "plt.tight_layout()\n",
    "plt.show()"
   ]
  },
  {
   "cell_type": "markdown",
   "metadata": {},
   "source": [
    "## Top 50 Project of world bank for Pakistan."
   ]
  },
  {
   "cell_type": "code",
   "execution_count": 101,
   "metadata": {},
   "outputs": [
    {
     "data": {
      "text/html": [
       "<div>\n",
       "<style scoped>\n",
       "    .dataframe tbody tr th:only-of-type {\n",
       "        vertical-align: middle;\n",
       "    }\n",
       "\n",
       "    .dataframe tbody tr th {\n",
       "        vertical-align: top;\n",
       "    }\n",
       "\n",
       "    .dataframe thead th {\n",
       "        text-align: right;\n",
       "    }\n",
       "</style>\n",
       "<table border=\"1\" class=\"dataframe\">\n",
       "  <thead>\n",
       "    <tr style=\"text-align: right;\">\n",
       "      <th></th>\n",
       "      <th>Amount to be Received</th>\n",
       "    </tr>\n",
       "    <tr>\n",
       "      <th>Project Name</th>\n",
       "      <th></th>\n",
       "    </tr>\n",
       "  </thead>\n",
       "  <tbody>\n",
       "    <tr>\n",
       "      <th>PK: Pakistan Earthquake ERC</th>\n",
       "      <td>9.771976e+10</td>\n",
       "    </tr>\n",
       "    <tr>\n",
       "      <th>SAC II</th>\n",
       "      <td>6.837888e+10</td>\n",
       "    </tr>\n",
       "    <tr>\n",
       "      <th>Pakistan PRSC I</th>\n",
       "      <td>6.073600e+10</td>\n",
       "    </tr>\n",
       "    <tr>\n",
       "      <th>PK:  Power Sector Reform DPC</th>\n",
       "      <td>5.856754e+10</td>\n",
       "    </tr>\n",
       "    <tr>\n",
       "      <th>PK: Second Poverty Alleviation Fund Proj</th>\n",
       "      <td>5.561510e+10</td>\n",
       "    </tr>\n",
       "    <tr>\n",
       "      <th>PK: Punjab Education Sector Project</th>\n",
       "      <td>5.397423e+10</td>\n",
       "    </tr>\n",
       "    <tr>\n",
       "      <th>Poverty Reduction &amp; Econ. Support Oper.</th>\n",
       "      <td>4.750567e+10</td>\n",
       "    </tr>\n",
       "    <tr>\n",
       "      <th>PK PRSC II</th>\n",
       "      <td>4.728662e+10</td>\n",
       "    </tr>\n",
       "    <tr>\n",
       "      <th>Structural Adjustment Credit</th>\n",
       "      <td>4.608470e+10</td>\n",
       "    </tr>\n",
       "    <tr>\n",
       "      <th>BSRPP</th>\n",
       "      <td>4.378918e+10</td>\n",
       "    </tr>\n",
       "    <tr>\n",
       "      <th>PK: Growth DPC-II</th>\n",
       "      <td>4.200913e+10</td>\n",
       "    </tr>\n",
       "    <tr>\n",
       "      <th>PK: Punjab Education Sector II</th>\n",
       "      <td>4.084068e+10</td>\n",
       "    </tr>\n",
       "    <tr>\n",
       "      <th>PCG for Dasu HPP</th>\n",
       "      <td>4.002000e+10</td>\n",
       "    </tr>\n",
       "    <tr>\n",
       "      <th>PK: HIGHWAYS REHAB</th>\n",
       "      <td>3.903894e+10</td>\n",
       "    </tr>\n",
       "    <tr>\n",
       "      <th>Pakistan: Power Sector Reform DPC 2</th>\n",
       "      <td>3.866121e+10</td>\n",
       "    </tr>\n",
       "    <tr>\n",
       "      <th>Natl Drainage Prog</th>\n",
       "      <td>3.662706e+10</td>\n",
       "    </tr>\n",
       "    <tr>\n",
       "      <th>PK:  Dasu Hydropower Stage I Project</th>\n",
       "      <td>3.655634e+10</td>\n",
       "    </tr>\n",
       "    <tr>\n",
       "      <th>PK: Sindh Education Sctr Project (SEP)</th>\n",
       "      <td>3.487360e+10</td>\n",
       "    </tr>\n",
       "    <tr>\n",
       "      <th>PK: PPAF III</th>\n",
       "      <td>3.440856e+10</td>\n",
       "    </tr>\n",
       "    <tr>\n",
       "      <th>Pakistan Competitiveness and Growth DPC</th>\n",
       "      <td>3.348748e+10</td>\n",
       "    </tr>\n",
       "    <tr>\n",
       "      <th>SOCIAL ACTION PRG II</th>\n",
       "      <td>3.243070e+10</td>\n",
       "    </tr>\n",
       "    <tr>\n",
       "      <th>KARACHI WATER &amp; SANI</th>\n",
       "      <td>2.943986e+10</td>\n",
       "    </tr>\n",
       "    <tr>\n",
       "      <th>SOCIAL ACTION PROGRA</th>\n",
       "      <td>2.848373e+10</td>\n",
       "    </tr>\n",
       "    <tr>\n",
       "      <th>PK:Tarbela 4th Extension Hydropower Proj</th>\n",
       "      <td>2.798222e+10</td>\n",
       "    </tr>\n",
       "    <tr>\n",
       "      <th>Fiscally Sustainable &amp; Inclusive Growth</th>\n",
       "      <td>2.776608e+10</td>\n",
       "    </tr>\n",
       "    <tr>\n",
       "      <th>PK:Second Sindh Education Sector Project</th>\n",
       "      <td>2.634335e+10</td>\n",
       "    </tr>\n",
       "    <tr>\n",
       "      <th>PK: Social Safety Net</th>\n",
       "      <td>2.561441e+10</td>\n",
       "    </tr>\n",
       "    <tr>\n",
       "      <th>PK: Sindh  Water Sector Improvement Proj</th>\n",
       "      <td>2.327287e+10</td>\n",
       "    </tr>\n",
       "    <tr>\n",
       "      <th>PK: Tertiary Education Support Project</th>\n",
       "      <td>2.321154e+10</td>\n",
       "    </tr>\n",
       "    <tr>\n",
       "      <th>PK: Social Safety Nets DPC</th>\n",
       "      <td>2.172069e+10</td>\n",
       "    </tr>\n",
       "    <tr>\n",
       "      <th>PFM/accountability to supp. service deli</th>\n",
       "      <td>2.148000e+10</td>\n",
       "    </tr>\n",
       "    <tr>\n",
       "      <th>Khyber Pass Economic Corridor</th>\n",
       "      <td>2.146706e+10</td>\n",
       "    </tr>\n",
       "    <tr>\n",
       "      <th>PK-Sindh Barrage Improvement</th>\n",
       "      <td>2.146399e+10</td>\n",
       "    </tr>\n",
       "    <tr>\n",
       "      <th>PK:Punjab Irrigated Agriculture Producti</th>\n",
       "      <td>2.055634e+10</td>\n",
       "    </tr>\n",
       "    <tr>\n",
       "      <th>PK: Second Poverty Alleviation Fund</th>\n",
       "      <td>2.043004e+10</td>\n",
       "    </tr>\n",
       "    <tr>\n",
       "      <th>PRIMARY EDUC. III</th>\n",
       "      <td>1.920947e+10</td>\n",
       "    </tr>\n",
       "    <tr>\n",
       "      <th>NWFP SAC II</th>\n",
       "      <td>1.907454e+10</td>\n",
       "    </tr>\n",
       "    <tr>\n",
       "      <th>Pakistan: Finance for Growth DPC</th>\n",
       "      <td>1.898669e+10</td>\n",
       "    </tr>\n",
       "    <tr>\n",
       "      <th>LEFT BANK OUTFALL DR</th>\n",
       "      <td>1.882866e+10</td>\n",
       "    </tr>\n",
       "    <tr>\n",
       "      <th>PK:  Dasu Hydropower Stage I Projec</th>\n",
       "      <td>1.873517e+10</td>\n",
       "    </tr>\n",
       "    <tr>\n",
       "      <th>PK: 3rd Partnership for Polio Erad.</th>\n",
       "      <td>1.872151e+10</td>\n",
       "    </tr>\n",
       "    <tr>\n",
       "      <th>Poverty Reduction &amp; Econ. Support O</th>\n",
       "      <td>1.745106e+10</td>\n",
       "    </tr>\n",
       "    <tr>\n",
       "      <th>HEDP</th>\n",
       "      <td>1.488829e+10</td>\n",
       "    </tr>\n",
       "    <tr>\n",
       "      <th>PK:Tarbela 4th Extension Hydropower</th>\n",
       "      <td>1.468291e+10</td>\n",
       "    </tr>\n",
       "    <tr>\n",
       "      <th>Pakistan Raises Revenue</th>\n",
       "      <td>1.448521e+10</td>\n",
       "    </tr>\n",
       "    <tr>\n",
       "      <th>Sindh Structural Adjustment Credit</th>\n",
       "      <td>1.425450e+10</td>\n",
       "    </tr>\n",
       "    <tr>\n",
       "      <th>Higher Education Support Program</th>\n",
       "      <td>1.420324e+10</td>\n",
       "    </tr>\n",
       "    <tr>\n",
       "      <th>SINDH PRIMARY EDUCATION</th>\n",
       "      <td>1.382131e+10</td>\n",
       "    </tr>\n",
       "    <tr>\n",
       "      <th>PK:Second Sindh Education Sector Pr</th>\n",
       "      <td>1.375378e+10</td>\n",
       "    </tr>\n",
       "    <tr>\n",
       "      <th>PK Punjab Education DPC-III</th>\n",
       "      <td>1.374478e+10</td>\n",
       "    </tr>\n",
       "  </tbody>\n",
       "</table>\n",
       "</div>"
      ],
      "text/plain": [
       "                                          Amount to be Received\n",
       "Project Name                                                   \n",
       "PK: Pakistan Earthquake ERC                        9.771976e+10\n",
       "SAC II                                             6.837888e+10\n",
       "Pakistan PRSC I                                    6.073600e+10\n",
       "PK:  Power Sector Reform DPC                       5.856754e+10\n",
       "PK: Second Poverty Alleviation Fund Proj           5.561510e+10\n",
       "PK: Punjab Education Sector Project                5.397423e+10\n",
       "Poverty Reduction & Econ. Support Oper.            4.750567e+10\n",
       "PK PRSC II                                         4.728662e+10\n",
       "Structural Adjustment Credit                       4.608470e+10\n",
       "BSRPP                                              4.378918e+10\n",
       "PK: Growth DPC-II                                  4.200913e+10\n",
       "PK: Punjab Education Sector II                     4.084068e+10\n",
       "PCG for Dasu HPP                                   4.002000e+10\n",
       "PK: HIGHWAYS REHAB                                 3.903894e+10\n",
       "Pakistan: Power Sector Reform DPC 2                3.866121e+10\n",
       "Natl Drainage Prog                                 3.662706e+10\n",
       "PK:  Dasu Hydropower Stage I Project               3.655634e+10\n",
       "PK: Sindh Education Sctr Project (SEP)             3.487360e+10\n",
       "PK: PPAF III                                       3.440856e+10\n",
       "Pakistan Competitiveness and Growth DPC            3.348748e+10\n",
       "SOCIAL ACTION PRG II                               3.243070e+10\n",
       "KARACHI WATER & SANI                               2.943986e+10\n",
       "SOCIAL ACTION PROGRA                               2.848373e+10\n",
       "PK:Tarbela 4th Extension Hydropower Proj           2.798222e+10\n",
       "Fiscally Sustainable & Inclusive Growth            2.776608e+10\n",
       "PK:Second Sindh Education Sector Project           2.634335e+10\n",
       "PK: Social Safety Net                              2.561441e+10\n",
       "PK: Sindh  Water Sector Improvement Proj           2.327287e+10\n",
       "PK: Tertiary Education Support Project             2.321154e+10\n",
       "PK: Social Safety Nets DPC                         2.172069e+10\n",
       "PFM/accountability to supp. service deli           2.148000e+10\n",
       "Khyber Pass Economic Corridor                      2.146706e+10\n",
       "PK-Sindh Barrage Improvement                       2.146399e+10\n",
       "PK:Punjab Irrigated Agriculture Producti           2.055634e+10\n",
       "PK: Second Poverty Alleviation Fund                2.043004e+10\n",
       "PRIMARY EDUC. III                                  1.920947e+10\n",
       "NWFP SAC II                                        1.907454e+10\n",
       "Pakistan: Finance for Growth DPC                   1.898669e+10\n",
       "LEFT BANK OUTFALL DR                               1.882866e+10\n",
       "PK:  Dasu Hydropower Stage I Projec                1.873517e+10\n",
       "PK: 3rd Partnership for Polio Erad.                1.872151e+10\n",
       "Poverty Reduction & Econ. Support O                1.745106e+10\n",
       "HEDP                                               1.488829e+10\n",
       "PK:Tarbela 4th Extension Hydropower                1.468291e+10\n",
       "Pakistan Raises Revenue                            1.448521e+10\n",
       "Sindh Structural Adjustment Credit                 1.425450e+10\n",
       "Higher Education Support Program                   1.420324e+10\n",
       "SINDH PRIMARY EDUCATION                            1.382131e+10\n",
       "PK:Second Sindh Education Sector Pr                1.375378e+10\n",
       "PK Punjab Education DPC-III                        1.374478e+10"
      ]
     },
     "execution_count": 101,
     "metadata": {},
     "output_type": "execute_result"
    }
   ],
   "source": [
    "# Filtered the IDA data by Country \n",
    "filtered_ida1 = ida[ida['Country'] == 'Pakistan']\n",
    "\n",
    "# Create the pivot table  to show the \"Project name\" with respect to aggregate amount taken by Pakistan.\n",
    "pivot_table1 = filtered_ida1.pivot_table(index='Project Name', values='Amount to be Received', aggfunc='sum')\n",
    "\n",
    "# Sort the values in descending order.\n",
    "sorted_pivot_table1 = pivot_table1.sort_values(by='Amount to be Received', ascending=False)\n",
    "\n",
    "# Filter out the top 50 projects name with respect to the highest amount.\n",
    "top_five_projects1 = sorted_pivot_table1.head(50)\n",
    "\n",
    "# Showing the top 50 highest loan taking project of Pakistan.\n",
    "top_five_projects1"
   ]
  },
  {
   "cell_type": "markdown",
   "metadata": {},
   "source": [
    "## Pakistan’s Top 5 Projects With The Highest Loan Amount."
   ]
  },
  {
   "cell_type": "code",
   "execution_count": 102,
   "metadata": {},
   "outputs": [
    {
     "data": {
      "text/html": [
       "<div>\n",
       "<style scoped>\n",
       "    .dataframe tbody tr th:only-of-type {\n",
       "        vertical-align: middle;\n",
       "    }\n",
       "\n",
       "    .dataframe tbody tr th {\n",
       "        vertical-align: top;\n",
       "    }\n",
       "\n",
       "    .dataframe thead th {\n",
       "        text-align: right;\n",
       "    }\n",
       "</style>\n",
       "<table border=\"1\" class=\"dataframe\">\n",
       "  <thead>\n",
       "    <tr style=\"text-align: right;\">\n",
       "      <th></th>\n",
       "      <th>Amount to be Received</th>\n",
       "    </tr>\n",
       "    <tr>\n",
       "      <th>Project Name</th>\n",
       "      <th></th>\n",
       "    </tr>\n",
       "  </thead>\n",
       "  <tbody>\n",
       "    <tr>\n",
       "      <th>PK: Pakistan Earthquake ERC</th>\n",
       "      <td>9.771976e+10</td>\n",
       "    </tr>\n",
       "    <tr>\n",
       "      <th>SAC II</th>\n",
       "      <td>6.837888e+10</td>\n",
       "    </tr>\n",
       "    <tr>\n",
       "      <th>Pakistan PRSC I</th>\n",
       "      <td>6.073600e+10</td>\n",
       "    </tr>\n",
       "    <tr>\n",
       "      <th>PK:  Power Sector Reform DPC</th>\n",
       "      <td>5.856754e+10</td>\n",
       "    </tr>\n",
       "    <tr>\n",
       "      <th>PK: Second Poverty Alleviation Fund Proj</th>\n",
       "      <td>5.561510e+10</td>\n",
       "    </tr>\n",
       "  </tbody>\n",
       "</table>\n",
       "</div>"
      ],
      "text/plain": [
       "                                          Amount to be Received\n",
       "Project Name                                                   \n",
       "PK: Pakistan Earthquake ERC                        9.771976e+10\n",
       "SAC II                                             6.837888e+10\n",
       "Pakistan PRSC I                                    6.073600e+10\n",
       "PK:  Power Sector Reform DPC                       5.856754e+10\n",
       "PK: Second Poverty Alleviation Fund Proj           5.561510e+10"
      ]
     },
     "execution_count": 102,
     "metadata": {},
     "output_type": "execute_result"
    }
   ],
   "source": [
    "# Filtered the IDA data by Country \n",
    "filtered_ida1 = ida[ida['Country'] == 'Pakistan']\n",
    "# Create the pivot table  to show the \"Project name\" with respect to aggregate amount taken by Pakistan.\n",
    "pivot_table1 = filtered_ida1.pivot_table(index='Project Name', values='Amount to be Received', aggfunc='sum')\n",
    "# Sort the values in descending order.\n",
    "sorted_pivot_table1 = pivot_table1.sort_values(by='Amount to be Received', ascending=False)\n",
    "# Filter out the top 5 projects name with respect to the highest amount.\n",
    "top_five_projects1 = sorted_pivot_table1.head(5)\n",
    "# Showing the top 5 highest loan taking project of Pakistan.\n",
    "top_five_projects1"
   ]
  },
  {
   "cell_type": "markdown",
   "metadata": {},
   "source": [
    "Plot the above results"
   ]
  },
  {
   "cell_type": "code",
   "execution_count": 103,
   "metadata": {},
   "outputs": [
    {
     "data": {
      "image/png": "[encoded data removed]",
      "text/plain": [
       "<Figure size 1200x600 with 1 Axes>"
      ]
     },
     "metadata": {},
     "output_type": "display_data"
    }
   ],
   "source": [
    "# Plot the top 5 countries\n",
    "plt.figure(figsize=(12, 6))\n",
    "sns.barplot(data= top_five_projects1, x = 'Project Name', y= 'Amount to be Received', hue= 'Project Name', palette = \"hls\")\n",
    "plt.xlabel('Projects')\n",
    "plt.ylabel('Amount (Billions)')\n",
    "# Adding data labels\n",
    "for bar in plt.gca().patches:\n",
    "    height = bar.get_height()\n",
    "    plt.annotate(f'{height / 1e9:.1f} B', xy=(bar.get_x() + bar.get_width() / 2, height),\n",
    "                 xytext=(0, 3),  # 3 points vertical offset\n",
    "                 textcoords=\"offset points\",\n",
    "                 ha='center', va='bottom')\n",
    "plt.tight_layout()\n",
    "plt.show()"
   ]
  },
  {
   "cell_type": "markdown",
   "metadata": {},
   "source": [
    "## Top 5 Projects  for which Pakistan has made Repayment to IDA."
   ]
  },
  {
   "cell_type": "code",
   "execution_count": 104,
   "metadata": {},
   "outputs": [
    {
     "name": "stdout",
     "output_type": "stream",
     "text": [
      "                          Project Name  Repaid to IDA (US$)\n",
      "0                 KARACHI WATER & SANI         1.978168e+10\n",
      "1  PK: 3rd Partnership for Polio Erad.         1.186984e+10\n",
      "2                 SOCIAL ACTION PROGRA         1.113758e+10\n",
      "3                   Natl Drainage Prog         1.020820e+10\n",
      "4                  INDUS BASIN PROJECT         9.363073e+09\n"
     ]
    }
   ],
   "source": [
    "# Filtered the IDA data by Country \n",
    "filtered_ida2 = ida[ida['Country'] == 'Pakistan']\n",
    "# # Create the pivot table  to show the \"Project name\" with respect to aggregate amount Repaid to IDA by Pakistan against each project.\n",
    "pivot_table2 = filtered_ida2.pivot_table(index='Project Name', values='Repaid to IDA (US$)', aggfunc='sum')\n",
    "# # Sort the values in descending order.\n",
    "sorted_pivot_table2 = pivot_table2.sort_values(by='Repaid to IDA (US$)', ascending=False)\n",
    "# Calculate the total loan amount for Pakistan\n",
    "total_loan_amount2 = sorted_pivot_table2.sum()\n",
    "# Filter out the top 5 projects name with respect to the highest amount payback to IDA.\n",
    "top_five_projects2 = sorted_pivot_table2.head(5)\n",
    "# Displaying the top 5 highest loan taking projects of Pakistan along with their percentage\n",
    "print(top_five_projects2.reset_index())"
   ]
  },
  {
   "cell_type": "markdown",
   "metadata": {},
   "source": [
    "Plot the above results."
   ]
  },
  {
   "cell_type": "code",
   "execution_count": 105,
   "metadata": {},
   "outputs": [
    {
     "data": {
      "image/png": "[encoded data removed]",
      "text/plain": [
       "<Figure size 1200x600 with 1 Axes>"
      ]
     },
     "metadata": {},
     "output_type": "display_data"
    }
   ],
   "source": [
    "# Plot the top 5 countries\n",
    "plt.figure(figsize=(12, 6))\n",
    "sns.barplot(data= top_five_projects2, x = 'Project Name', y= 'Repaid to IDA (US$)', hue= 'Project Name', palette = \"hls\")\n",
    "plt.xlabel('Projects')\n",
    "plt.ylabel('Amount (Billions)')\n",
    "# Adding data labels\n",
    "for bar in plt.gca().patches:\n",
    "    height = bar.get_height()\n",
    "    plt.annotate(f'{height / 1e9:.1f} B', xy=(bar.get_x() + bar.get_width() / 2, height),\n",
    "                 xytext=(0, 3),  # 3 points vertical offset\n",
    "                 textcoords=\"offset points\",\n",
    "                 ha='center', va='bottom')\n",
    "plt.tight_layout()\n",
    "plt.show()"
   ]
  },
  {
   "cell_type": "markdown",
   "metadata": {},
   "source": [
    "## India's Top 5 Projects With The Highest Loan Amount."
   ]
  },
  {
   "cell_type": "code",
   "execution_count": 106,
   "metadata": {},
   "outputs": [
    {
     "data": {
      "text/html": [
       "<div>\n",
       "<style scoped>\n",
       "    .dataframe tbody tr th:only-of-type {\n",
       "        vertical-align: middle;\n",
       "    }\n",
       "\n",
       "    .dataframe tbody tr th {\n",
       "        vertical-align: top;\n",
       "    }\n",
       "\n",
       "    .dataframe thead th {\n",
       "        text-align: right;\n",
       "    }\n",
       "</style>\n",
       "<table border=\"1\" class=\"dataframe\">\n",
       "  <thead>\n",
       "    <tr style=\"text-align: right;\">\n",
       "      <th></th>\n",
       "      <th>Amount to be Received</th>\n",
       "    </tr>\n",
       "    <tr>\n",
       "      <th>Project Name</th>\n",
       "      <th></th>\n",
       "    </tr>\n",
       "  </thead>\n",
       "  <tbody>\n",
       "    <tr>\n",
       "      <th>IN: Elementary Education (SSA II)</th>\n",
       "      <td>1.766803e+11</td>\n",
       "    </tr>\n",
       "    <tr>\n",
       "      <th>IN: PMGSY Rural Roads Project</th>\n",
       "      <td>1.189327e+11</td>\n",
       "    </tr>\n",
       "    <tr>\n",
       "      <th>IN: SSA III</th>\n",
       "      <td>9.055650e+10</td>\n",
       "    </tr>\n",
       "    <tr>\n",
       "      <th>SOCIAL SAFETY NETS</th>\n",
       "      <td>6.755758e+10</td>\n",
       "    </tr>\n",
       "    <tr>\n",
       "      <th>ELEMENTARY EDUCATION PROJECT (SSA)</th>\n",
       "      <td>6.548653e+10</td>\n",
       "    </tr>\n",
       "  </tbody>\n",
       "</table>\n",
       "</div>"
      ],
      "text/plain": [
       "                                    Amount to be Received\n",
       "Project Name                                             \n",
       "IN: Elementary Education (SSA II)            1.766803e+11\n",
       "IN: PMGSY Rural Roads Project                1.189327e+11\n",
       "IN: SSA III                                  9.055650e+10\n",
       "SOCIAL SAFETY NETS                           6.755758e+10\n",
       "ELEMENTARY EDUCATION PROJECT (SSA)           6.548653e+10"
      ]
     },
     "execution_count": 106,
     "metadata": {},
     "output_type": "execute_result"
    }
   ],
   "source": [
    "# Filtered the IDA data by Country \n",
    "filtered_ida4 = ida[ida['Country'] == 'India']\n",
    "# Create the pivot table  to show the \"Project name\" with respect to aggregate amount taken by India.\n",
    "pivot_table4 = filtered_ida4.pivot_table(index='Project Name', values='Amount to be Received', aggfunc='sum')\n",
    "# Sort the values in descending order.\n",
    "sorted_pivot_table4 = pivot_table4.sort_values(by='Amount to be Received', ascending=False)\n",
    "# Filter out the top 5 projects name with respect to the highest amount.\n",
    "top_five_projects4 = sorted_pivot_table4.head(5)\n",
    "# Showing the top 5 highest loan taking project of Pakistan.\n",
    "top_five_projects4"
   ]
  },
  {
   "cell_type": "markdown",
   "metadata": {},
   "source": [
    "Plot the above results"
   ]
  },
  {
   "cell_type": "code",
   "execution_count": 107,
   "metadata": {},
   "outputs": [
    {
     "data": {
      "image/png": "[encoded data removed]",
      "text/plain": [
       "<Figure size 1200x600 with 1 Axes>"
      ]
     },
     "metadata": {},
     "output_type": "display_data"
    }
   ],
   "source": [
    "# Plot the top 5 countries\n",
    "plt.figure(figsize=(12, 6))\n",
    "sns.barplot(data= top_five_projects4, x = 'Project Name', y= 'Amount to be Received', hue= 'Project Name', palette = \"Set2\")\n",
    "plt.xlabel('Projects')\n",
    "plt.ylabel('Amount (Billions)')\n",
    "# Adding data labels\n",
    "for bar in plt.gca().patches:\n",
    "    height = bar.get_height()\n",
    "    plt.annotate(f'{height / 1e9:.1f} B', xy=(bar.get_x() + bar.get_width() / 2, height),\n",
    "                 xytext=(0, 3),  # 3 points vertical offset\n",
    "                 textcoords=\"offset points\",\n",
    "                 ha='center', va='bottom')\n",
    "plt.tight_layout()\n",
    "plt.show()"
   ]
  },
  {
   "cell_type": "markdown",
   "metadata": {},
   "source": [
    "## Top 5 Projects  for which India has made Repayment to IDA."
   ]
  },
  {
   "cell_type": "code",
   "execution_count": 108,
   "metadata": {},
   "outputs": [
    {
     "name": "stdout",
     "output_type": "stream",
     "text": [
      "           Project Name  Repaid to IDA (US$)\n",
      "0     HAZIRA FERTILIZER         3.570739e+10\n",
      "1  TELECOMMUNICATIONS V         3.527384e+10\n",
      "2      KORBA THERMAL II         3.472230e+10\n",
      "3              RAILWAYS         3.159920e+10\n",
      "4    SOCIAL SAFETY NETS         3.113597e+10\n"
     ]
    }
   ],
   "source": [
    "# Filtered the IDA data by Country \n",
    "filtered_ida5 = ida[ida['Country'] == 'India']\n",
    "# # Create the pivot table  to show the \"Project name\" with respect to aggregate amount taken by Pakistan.\n",
    "pivot_table5 = filtered_ida5.pivot_table(index='Project Name', values='Repaid to IDA (US$)', aggfunc='sum')\n",
    "# # Sort the values in descending order.\n",
    "sorted_pivot_table5 = pivot_table5.sort_values(by='Repaid to IDA (US$)', ascending=False)\n",
    "# Calculate the total loan amount for Pakistan\n",
    "total_loan_amount5 = sorted_pivot_table5.sum()\n",
    "# Filter out the top 5 projects name with respect to the highest amount payback to IDA.\n",
    "top_five_projects5 = sorted_pivot_table5.head(5)\n",
    "# Displaying the top 5 highest loan taking projects of Pakistan along with their percentage\n",
    "print(top_five_projects5.reset_index())"
   ]
  },
  {
   "cell_type": "markdown",
   "metadata": {},
   "source": [
    "Plot the above results."
   ]
  },
  {
   "cell_type": "code",
   "execution_count": 109,
   "metadata": {},
   "outputs": [
    {
     "data": {
      "image/png": "[encoded data removed]",
      "text/plain": [
       "<Figure size 1200x600 with 1 Axes>"
      ]
     },
     "metadata": {},
     "output_type": "display_data"
    }
   ],
   "source": [
    "# Plot the top 5 countries\n",
    "plt.figure(figsize=(12, 6))\n",
    "sns.barplot(data= top_five_projects5, x = 'Project Name', y= 'Repaid to IDA (US$)', hue= 'Project Name', palette = \"Set2\")\n",
    "plt.xlabel('Projects')\n",
    "plt.ylabel('Amount (Billions)')\n",
    "# Adding data labels\n",
    "for bar in plt.gca().patches:\n",
    "    height = bar.get_height()\n",
    "    plt.annotate(f'{height / 1e9:.1f} B', xy=(bar.get_x() + bar.get_width() / 2, height),\n",
    "                 xytext=(0, 3),  # 3 points vertical offset\n",
    "                 textcoords=\"offset points\",\n",
    "                 ha='center', va='bottom')\n",
    "plt.tight_layout()\n",
    "plt.show()\n"
   ]
  },
  {
   "cell_type": "markdown",
   "metadata": {},
   "source": [
    "## I checked the top 5 projects Bangladesh has taken the highest loan for."
   ]
  },
  {
   "cell_type": "code",
   "execution_count": 110,
   "metadata": {},
   "outputs": [
    {
     "data": {
      "text/html": [
       "<div>\n",
       "<style scoped>\n",
       "    .dataframe tbody tr th:only-of-type {\n",
       "        vertical-align: middle;\n",
       "    }\n",
       "\n",
       "    .dataframe tbody tr th {\n",
       "        vertical-align: top;\n",
       "    }\n",
       "\n",
       "    .dataframe thead th {\n",
       "        text-align: right;\n",
       "    }\n",
       "</style>\n",
       "<table border=\"1\" class=\"dataframe\">\n",
       "  <thead>\n",
       "    <tr style=\"text-align: right;\">\n",
       "      <th></th>\n",
       "      <th>Amount to be Received</th>\n",
       "    </tr>\n",
       "    <tr>\n",
       "      <th>Project Name</th>\n",
       "      <th></th>\n",
       "    </tr>\n",
       "  </thead>\n",
       "  <tbody>\n",
       "    <tr>\n",
       "      <th>BD: Siddhirganj Power Project</th>\n",
       "      <td>5.314492e+10</td>\n",
       "    </tr>\n",
       "    <tr>\n",
       "      <th>BD: Primary Education Dev. Program III</th>\n",
       "      <td>5.039317e+10</td>\n",
       "    </tr>\n",
       "    <tr>\n",
       "      <th>BD: Rural Elect. Renewable Energy Dev.</th>\n",
       "      <td>4.565075e+10</td>\n",
       "    </tr>\n",
       "    <tr>\n",
       "      <th>BD: Health Sector Development Program</th>\n",
       "      <td>4.332540e+10</td>\n",
       "    </tr>\n",
       "    <tr>\n",
       "      <th>Development Support Credit</th>\n",
       "      <td>4.109906e+10</td>\n",
       "    </tr>\n",
       "  </tbody>\n",
       "</table>\n",
       "</div>"
      ],
      "text/plain": [
       "                                        Amount to be Received\n",
       "Project Name                                                 \n",
       "BD: Siddhirganj Power Project                    5.314492e+10\n",
       "BD: Primary Education Dev. Program III           5.039317e+10\n",
       "BD: Rural Elect. Renewable Energy Dev.           4.565075e+10\n",
       "BD: Health Sector Development Program            4.332540e+10\n",
       "Development Support Credit                       4.109906e+10"
      ]
     },
     "execution_count": 110,
     "metadata": {},
     "output_type": "execute_result"
    }
   ],
   "source": [
    "# Filtered the IDA data by Country \n",
    "filtered_ida6 = ida[ida['Country'] == 'Bangladesh']\n",
    "# Create the pivot table  to show the \"Project name\" with respect to aggregate amount taken by Bangladesh.\n",
    "pivot_table6 = filtered_ida6.pivot_table(index='Project Name', values='Amount to be Received', aggfunc='sum')\n",
    "# Sort the values in descending order.\n",
    "sorted_pivot_table6 = pivot_table6.sort_values(by='Amount to be Received', ascending=False)\n",
    "# Filter out the top 5 projects name with respect to the highest amount.\n",
    "top_five_projects6 = sorted_pivot_table6.head(5)\n",
    "# Showing the top 5 highest loan taking project of Pakistan.\n",
    "top_five_projects6"
   ]
  },
  {
   "cell_type": "markdown",
   "metadata": {},
   "source": [
    "Plot the above results."
   ]
  },
  {
   "cell_type": "code",
   "execution_count": 111,
   "metadata": {},
   "outputs": [
    {
     "data": {
      "image/png": "[encoded data removed]",
      "text/plain": [
       "<Figure size 1400x600 with 1 Axes>"
      ]
     },
     "metadata": {},
     "output_type": "display_data"
    }
   ],
   "source": [
    "# Plot the top 5 countries\n",
    "plt.figure(figsize=(14, 6))\n",
    "sns.barplot(data= top_five_projects6, x = 'Project Name', y= 'Amount to be Received', hue= 'Project Name', palette = \"viridis\")\n",
    "plt.xlabel('Projects')\n",
    "plt.ylabel('Amount (Billions)')\n",
    "# Adding data labels\n",
    "for bar in plt.gca().patches:\n",
    "    height = bar.get_height()\n",
    "    plt.annotate(f'{height / 1e9:.1f} B', xy=(bar.get_x() + bar.get_width() / 2, height),\n",
    "                 xytext=(0, 3),  # 3 points vertical offset\n",
    "                 textcoords=\"offset points\",\n",
    "                 ha='center', va='bottom')\n",
    "plt.tight_layout()\n",
    "plt.show()\n"
   ]
  },
  {
   "cell_type": "markdown",
   "metadata": {},
   "source": [
    "##  Top 5 Projects  for which Bangladesh has Made Repayment to IDA."
   ]
  },
  {
   "cell_type": "code",
   "execution_count": 112,
   "metadata": {},
   "outputs": [
    {
     "data": {
      "text/html": [
       "<div>\n",
       "<style scoped>\n",
       "    .dataframe tbody tr th:only-of-type {\n",
       "        vertical-align: middle;\n",
       "    }\n",
       "\n",
       "    .dataframe tbody tr th {\n",
       "        vertical-align: top;\n",
       "    }\n",
       "\n",
       "    .dataframe thead th {\n",
       "        text-align: right;\n",
       "    }\n",
       "</style>\n",
       "<table border=\"1\" class=\"dataframe\">\n",
       "  <thead>\n",
       "    <tr style=\"text-align: right;\">\n",
       "      <th></th>\n",
       "      <th>Repaid to IDA (US$)</th>\n",
       "    </tr>\n",
       "    <tr>\n",
       "      <th>Project Name</th>\n",
       "      <th></th>\n",
       "    </tr>\n",
       "  </thead>\n",
       "  <tbody>\n",
       "    <tr>\n",
       "      <th>PROGRAM CREDIT XIII</th>\n",
       "      <td>1.540118e+10</td>\n",
       "    </tr>\n",
       "    <tr>\n",
       "      <th>ENERGY SECTOR</th>\n",
       "      <td>1.404054e+10</td>\n",
       "    </tr>\n",
       "    <tr>\n",
       "      <th>PROGRAM CREDIT XII</th>\n",
       "      <td>1.271756e+10</td>\n",
       "    </tr>\n",
       "    <tr>\n",
       "      <th>FINANCIAL SECTOR CR.</th>\n",
       "      <td>1.226285e+10</td>\n",
       "    </tr>\n",
       "    <tr>\n",
       "      <th>INDUSTRIAL SECTOR CREDIT</th>\n",
       "      <td>1.113577e+10</td>\n",
       "    </tr>\n",
       "  </tbody>\n",
       "</table>\n",
       "</div>"
      ],
      "text/plain": [
       "                          Repaid to IDA (US$)\n",
       "Project Name                                 \n",
       "PROGRAM CREDIT XIII              1.540118e+10\n",
       "ENERGY SECTOR                    1.404054e+10\n",
       "PROGRAM CREDIT XII               1.271756e+10\n",
       "FINANCIAL SECTOR CR.             1.226285e+10\n",
       "INDUSTRIAL SECTOR CREDIT         1.113577e+10"
      ]
     },
     "execution_count": 112,
     "metadata": {},
     "output_type": "execute_result"
    }
   ],
   "source": [
    "# Filtered the IDA data by Country \n",
    "filtered_ida7 = ida[ida['Country'] == 'Bangladesh']\n",
    "# Create the pivot table  to show the \"Project name\" with respect to aggregate amount taken by Bangladesh.\n",
    "pivot_table7 = filtered_ida7.pivot_table(index='Project Name', values='Repaid to IDA (US$)', aggfunc='sum')\n",
    "# Sort the values in descending order.\n",
    "sorted_pivot_table7 = pivot_table7.sort_values(by='Repaid to IDA (US$)', ascending=False)\n",
    "# Filter out the top 5 projects name with respect to the highest amount.\n",
    "top_five_projects7 = sorted_pivot_table7.head(5)\n",
    "# Showing the top 5 highest loan taking project of Pakistan.\n",
    "top_five_projects7"
   ]
  },
  {
   "cell_type": "markdown",
   "metadata": {},
   "source": [
    "Plot the above results."
   ]
  },
  {
   "cell_type": "code",
   "execution_count": 113,
   "metadata": {},
   "outputs": [
    {
     "data": {
      "image/png": "[encoded data removed]",
      "text/plain": [
       "<Figure size 1200x600 with 1 Axes>"
      ]
     },
     "metadata": {},
     "output_type": "display_data"
    }
   ],
   "source": [
    "# Plot the top 5 countries\n",
    "plt.figure(figsize=(12, 6))\n",
    "sns.barplot(data= top_five_projects7, x = 'Project Name', y= 'Repaid to IDA (US$)', hue= 'Project Name', palette = \"viridis\")\n",
    "plt.xlabel('Projects')\n",
    "plt.ylabel('Amount (Billions)')\n",
    "# Adding data labels\n",
    "for bar in plt.gca().patches:\n",
    "    height = bar.get_height()\n",
    "    plt.annotate(f'{height / 1e9:.1f} B', xy=(bar.get_x() + bar.get_width() / 2, height),\n",
    "                 xytext=(0, 3),  # 3 points vertical offset\n",
    "                 textcoords=\"offset points\",\n",
    "                 ha='center', va='bottom')\n",
    "plt.tight_layout()\n",
    "plt.show()\n"
   ]
  },
  {
   "cell_type": "markdown",
   "metadata": {},
   "source": [
    "## I checked the percentage of loan Repayment to IDA by Pakistan."
   ]
  },
  {
   "cell_type": "code",
   "execution_count": 114,
   "metadata": {},
   "outputs": [
    {
     "name": "stdout",
     "output_type": "stream",
     "text": [
      "Percentage of Payback Amount against loan by Pakistan is: 20.85%\n"
     ]
    }
   ],
   "source": [
    "# Filter the data for Pakistan\n",
    "filtered_Pak = ida[ida['Country'] == 'Pakistan']\n",
    "\n",
    "# Calculate the sum of 'Repaid to IDA (US$)' and 'Disbursed Amount (US$)'\n",
    "repaid_sum = filtered_Pak['Repaid to IDA (US$)'].sum()\n",
    "disbursed_sum = filtered_Pak['Disbursed Amount (US$)'].sum()\n",
    "\n",
    "# Calculate the percentage\n",
    "percentage = (repaid_sum / disbursed_sum) * 100\n",
    "\n",
    "# Print the result\n",
    "print(f'Percentage of Payback Amount against loan by Pakistan is: {percentage:.2f}%')"
   ]
  },
  {
   "cell_type": "markdown",
   "metadata": {},
   "source": [
    "## I checked the percentage of loan Repayment to IDA by India."
   ]
  },
  {
   "cell_type": "code",
   "execution_count": 115,
   "metadata": {},
   "outputs": [
    {
     "name": "stdout",
     "output_type": "stream",
     "text": [
      "Percentage of Payback Amount against loan by India is: 41.83%\n"
     ]
    }
   ],
   "source": [
    "# Filter the data for a India\n",
    "filtered_Pak = ida[ida['Country'] == 'India']\n",
    "\n",
    "# Calculate the sum of 'Repaid to IDA (US$)' and 'Disbursed Amount (US$)'\n",
    "repaid_sum = filtered_Pak['Repaid to IDA (US$)'].sum()\n",
    "disbursed_sum = filtered_Pak['Disbursed Amount (US$)'].sum()\n",
    "\n",
    "# Calculate the percentage\n",
    "percentage = (repaid_sum / disbursed_sum) * 100\n",
    "\n",
    "# Print the result\n",
    "print(f'Percentage of Payback Amount against loan by India is: {percentage:.2f}%')"
   ]
  },
  {
   "cell_type": "markdown",
   "metadata": {},
   "source": [
    "## Next I checked the percentage of loan Repayment to IDA by Bangladesh."
   ]
  },
  {
   "cell_type": "code",
   "execution_count": 116,
   "metadata": {},
   "outputs": [
    {
     "name": "stdout",
     "output_type": "stream",
     "text": [
      "Percentage of Payback Amount against loan by Bangladesh is: 23.07%\n"
     ]
    }
   ],
   "source": [
    "# Filter the data for a Bangladesh\n",
    "filtered_Pak = ida[ida['Country'] == 'Bangladesh']\n",
    "\n",
    "# Calculate the sum of 'Repaid to IDA (US$)' and 'Disbursed Amount (US$)'\n",
    "repaid_sum = filtered_Pak['Repaid to IDA (US$)'].sum()\n",
    "disbursed_sum = filtered_Pak['Disbursed Amount (US$)'].sum()\n",
    "\n",
    "# Calculate the percentage\n",
    "percentage = (repaid_sum / disbursed_sum) * 100\n",
    "\n",
    "# Print the result\n",
    "print(f'Percentage of Payback Amount against loan by Bangladesh is: {percentage:.2f}%')"
   ]
  }
 ],
 "metadata": {
  "kernelspec": {
   "display_name": "Python 3",
   "language": "python",
   "name": "python3"
  },
  "language_info": {
   "codemirror_mode": {
    "name": "ipython",
    "version": 3
   },
   "file_extension": ".py",
   "mimetype": "text/x-python",
   "name": "python",
   "nbconvert_exporter": "python",
   "pygments_lexer": "ipython3",
   "version": "3.11.5"
  }
 },
 "nbformat": 4,
 "nbformat_minor": 2
}
